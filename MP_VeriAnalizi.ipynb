{
 "cells": [
  {
   "cell_type": "code",
   "execution_count": 5,
   "metadata": {},
   "outputs": [],
   "source": [
    "import numpy as np \n",
    "import pandas as pd \n",
    "import seaborn as sns \n",
    "import matplotlib.pyplot as plt\n",
    "from sklearn.metrics import confusion_matrix\n",
    "from sklearn.metrics import accuracy_score "
   ]
  },
  {
   "cell_type": "code",
   "execution_count": 6,
   "metadata": {},
   "outputs": [
    {
     "name": "stdout",
     "output_type": "stream",
     "text": [
      "<class 'pandas.core.frame.DataFrame'>\n",
      "RangeIndex: 299 entries, 0 to 298\n",
      "Data columns (total 13 columns):\n",
      " #   Column                    Non-Null Count  Dtype  \n",
      "---  ------                    --------------  -----  \n",
      " 0   age                       299 non-null    float64\n",
      " 1   anaemia                   299 non-null    int64  \n",
      " 2   creatinine_phosphokinase  299 non-null    int64  \n",
      " 3   diabetes                  299 non-null    int64  \n",
      " 4   ejection_fraction         299 non-null    int64  \n",
      " 5   high_blood_pressure       299 non-null    int64  \n",
      " 6   platelets                 299 non-null    float64\n",
      " 7   serum_creatinine          299 non-null    float64\n",
      " 8   serum_sodium              299 non-null    int64  \n",
      " 9   sex                       299 non-null    int64  \n",
      " 10  smoking                   299 non-null    int64  \n",
      " 11  time                      299 non-null    int64  \n",
      " 12  DEATH_EVENT               299 non-null    int64  \n",
      "dtypes: float64(3), int64(10)\n",
      "memory usage: 30.5 KB\n"
     ]
    }
   ],
   "source": [
    "heart_data=pd.read_csv('heart_failure_clinical_records_dataset.csv')\n",
    "heart_data.info()\n",
    "#Verilerimiz kalp krüzünü etkileyen bazı faktörler üzerine hazırlanmıştır. \n",
    "#Verimizde  cinsiyet ksımı için 0=kadın 1=erkek bireyin ifade etmektedir.\n",
    "# death_event faktöründe 0 = bireyin hayatta kaldığını 1=ise vefat ettiğini ifade edtmektedir.\n",
    "#Bunun dışında verimizde 0 yok 1 var olarak kullanılmıştır. "
   ]
  },
  {
   "cell_type": "code",
   "execution_count": 7,
   "metadata": {},
   "outputs": [
    {
     "data": {
      "text/html": [
       "<div>\n",
       "<style scoped>\n",
       "    .dataframe tbody tr th:only-of-type {\n",
       "        vertical-align: middle;\n",
       "    }\n",
       "\n",
       "    .dataframe tbody tr th {\n",
       "        vertical-align: top;\n",
       "    }\n",
       "\n",
       "    .dataframe thead th {\n",
       "        text-align: right;\n",
       "    }\n",
       "</style>\n",
       "<table border=\"1\" class=\"dataframe\">\n",
       "  <thead>\n",
       "    <tr style=\"text-align: right;\">\n",
       "      <th></th>\n",
       "      <th>age</th>\n",
       "      <th>anaemia</th>\n",
       "      <th>creatinine_phosphokinase</th>\n",
       "      <th>diabetes</th>\n",
       "      <th>ejection_fraction</th>\n",
       "      <th>high_blood_pressure</th>\n",
       "      <th>platelets</th>\n",
       "      <th>serum_creatinine</th>\n",
       "      <th>serum_sodium</th>\n",
       "      <th>sex</th>\n",
       "      <th>smoking</th>\n",
       "      <th>time</th>\n",
       "      <th>DEATH_EVENT</th>\n",
       "    </tr>\n",
       "  </thead>\n",
       "  <tbody>\n",
       "    <tr>\n",
       "      <th>0</th>\n",
       "      <td>75.0</td>\n",
       "      <td>0</td>\n",
       "      <td>582</td>\n",
       "      <td>0</td>\n",
       "      <td>20</td>\n",
       "      <td>1</td>\n",
       "      <td>265000.00</td>\n",
       "      <td>1.9</td>\n",
       "      <td>130</td>\n",
       "      <td>1</td>\n",
       "      <td>0</td>\n",
       "      <td>4</td>\n",
       "      <td>1</td>\n",
       "    </tr>\n",
       "    <tr>\n",
       "      <th>1</th>\n",
       "      <td>55.0</td>\n",
       "      <td>0</td>\n",
       "      <td>7861</td>\n",
       "      <td>0</td>\n",
       "      <td>38</td>\n",
       "      <td>0</td>\n",
       "      <td>263358.03</td>\n",
       "      <td>1.1</td>\n",
       "      <td>136</td>\n",
       "      <td>1</td>\n",
       "      <td>0</td>\n",
       "      <td>6</td>\n",
       "      <td>1</td>\n",
       "    </tr>\n",
       "    <tr>\n",
       "      <th>2</th>\n",
       "      <td>65.0</td>\n",
       "      <td>0</td>\n",
       "      <td>146</td>\n",
       "      <td>0</td>\n",
       "      <td>20</td>\n",
       "      <td>0</td>\n",
       "      <td>162000.00</td>\n",
       "      <td>1.3</td>\n",
       "      <td>129</td>\n",
       "      <td>1</td>\n",
       "      <td>1</td>\n",
       "      <td>7</td>\n",
       "      <td>1</td>\n",
       "    </tr>\n",
       "    <tr>\n",
       "      <th>3</th>\n",
       "      <td>50.0</td>\n",
       "      <td>1</td>\n",
       "      <td>111</td>\n",
       "      <td>0</td>\n",
       "      <td>20</td>\n",
       "      <td>0</td>\n",
       "      <td>210000.00</td>\n",
       "      <td>1.9</td>\n",
       "      <td>137</td>\n",
       "      <td>1</td>\n",
       "      <td>0</td>\n",
       "      <td>7</td>\n",
       "      <td>1</td>\n",
       "    </tr>\n",
       "    <tr>\n",
       "      <th>4</th>\n",
       "      <td>65.0</td>\n",
       "      <td>1</td>\n",
       "      <td>160</td>\n",
       "      <td>1</td>\n",
       "      <td>20</td>\n",
       "      <td>0</td>\n",
       "      <td>327000.00</td>\n",
       "      <td>2.7</td>\n",
       "      <td>116</td>\n",
       "      <td>0</td>\n",
       "      <td>0</td>\n",
       "      <td>8</td>\n",
       "      <td>1</td>\n",
       "    </tr>\n",
       "    <tr>\n",
       "      <th>...</th>\n",
       "      <td>...</td>\n",
       "      <td>...</td>\n",
       "      <td>...</td>\n",
       "      <td>...</td>\n",
       "      <td>...</td>\n",
       "      <td>...</td>\n",
       "      <td>...</td>\n",
       "      <td>...</td>\n",
       "      <td>...</td>\n",
       "      <td>...</td>\n",
       "      <td>...</td>\n",
       "      <td>...</td>\n",
       "      <td>...</td>\n",
       "    </tr>\n",
       "    <tr>\n",
       "      <th>294</th>\n",
       "      <td>62.0</td>\n",
       "      <td>0</td>\n",
       "      <td>61</td>\n",
       "      <td>1</td>\n",
       "      <td>38</td>\n",
       "      <td>1</td>\n",
       "      <td>155000.00</td>\n",
       "      <td>1.1</td>\n",
       "      <td>143</td>\n",
       "      <td>1</td>\n",
       "      <td>1</td>\n",
       "      <td>270</td>\n",
       "      <td>0</td>\n",
       "    </tr>\n",
       "    <tr>\n",
       "      <th>295</th>\n",
       "      <td>55.0</td>\n",
       "      <td>0</td>\n",
       "      <td>1820</td>\n",
       "      <td>0</td>\n",
       "      <td>38</td>\n",
       "      <td>0</td>\n",
       "      <td>270000.00</td>\n",
       "      <td>1.2</td>\n",
       "      <td>139</td>\n",
       "      <td>0</td>\n",
       "      <td>0</td>\n",
       "      <td>271</td>\n",
       "      <td>0</td>\n",
       "    </tr>\n",
       "    <tr>\n",
       "      <th>296</th>\n",
       "      <td>45.0</td>\n",
       "      <td>0</td>\n",
       "      <td>2060</td>\n",
       "      <td>1</td>\n",
       "      <td>60</td>\n",
       "      <td>0</td>\n",
       "      <td>742000.00</td>\n",
       "      <td>0.8</td>\n",
       "      <td>138</td>\n",
       "      <td>0</td>\n",
       "      <td>0</td>\n",
       "      <td>278</td>\n",
       "      <td>0</td>\n",
       "    </tr>\n",
       "    <tr>\n",
       "      <th>297</th>\n",
       "      <td>45.0</td>\n",
       "      <td>0</td>\n",
       "      <td>2413</td>\n",
       "      <td>0</td>\n",
       "      <td>38</td>\n",
       "      <td>0</td>\n",
       "      <td>140000.00</td>\n",
       "      <td>1.4</td>\n",
       "      <td>140</td>\n",
       "      <td>1</td>\n",
       "      <td>1</td>\n",
       "      <td>280</td>\n",
       "      <td>0</td>\n",
       "    </tr>\n",
       "    <tr>\n",
       "      <th>298</th>\n",
       "      <td>50.0</td>\n",
       "      <td>0</td>\n",
       "      <td>196</td>\n",
       "      <td>0</td>\n",
       "      <td>45</td>\n",
       "      <td>0</td>\n",
       "      <td>395000.00</td>\n",
       "      <td>1.6</td>\n",
       "      <td>136</td>\n",
       "      <td>1</td>\n",
       "      <td>1</td>\n",
       "      <td>285</td>\n",
       "      <td>0</td>\n",
       "    </tr>\n",
       "  </tbody>\n",
       "</table>\n",
       "<p>299 rows × 13 columns</p>\n",
       "</div>"
      ],
      "text/plain": [
       "      age  anaemia  creatinine_phosphokinase  diabetes  ejection_fraction  \\\n",
       "0    75.0        0                       582         0                 20   \n",
       "1    55.0        0                      7861         0                 38   \n",
       "2    65.0        0                       146         0                 20   \n",
       "3    50.0        1                       111         0                 20   \n",
       "4    65.0        1                       160         1                 20   \n",
       "..    ...      ...                       ...       ...                ...   \n",
       "294  62.0        0                        61         1                 38   \n",
       "295  55.0        0                      1820         0                 38   \n",
       "296  45.0        0                      2060         1                 60   \n",
       "297  45.0        0                      2413         0                 38   \n",
       "298  50.0        0                       196         0                 45   \n",
       "\n",
       "     high_blood_pressure  platelets  serum_creatinine  serum_sodium  sex  \\\n",
       "0                      1  265000.00               1.9           130    1   \n",
       "1                      0  263358.03               1.1           136    1   \n",
       "2                      0  162000.00               1.3           129    1   \n",
       "3                      0  210000.00               1.9           137    1   \n",
       "4                      0  327000.00               2.7           116    0   \n",
       "..                   ...        ...               ...           ...  ...   \n",
       "294                    1  155000.00               1.1           143    1   \n",
       "295                    0  270000.00               1.2           139    0   \n",
       "296                    0  742000.00               0.8           138    0   \n",
       "297                    0  140000.00               1.4           140    1   \n",
       "298                    0  395000.00               1.6           136    1   \n",
       "\n",
       "     smoking  time  DEATH_EVENT  \n",
       "0          0     4            1  \n",
       "1          0     6            1  \n",
       "2          1     7            1  \n",
       "3          0     7            1  \n",
       "4          0     8            1  \n",
       "..       ...   ...          ...  \n",
       "294        1   270            0  \n",
       "295        0   271            0  \n",
       "296        0   278            0  \n",
       "297        1   280            0  \n",
       "298        1   285            0  \n",
       "\n",
       "[299 rows x 13 columns]"
      ]
     },
     "execution_count": 7,
     "metadata": {},
     "output_type": "execute_result"
    }
   ],
   "source": [
    "heart_data\n"
   ]
  },
  {
   "cell_type": "code",
   "execution_count": 8,
   "metadata": {},
   "outputs": [
    {
     "data": {
      "text/plain": [
       "age                         0\n",
       "anaemia                     0\n",
       "creatinine_phosphokinase    0\n",
       "diabetes                    0\n",
       "ejection_fraction           0\n",
       "high_blood_pressure         0\n",
       "platelets                   0\n",
       "serum_creatinine            0\n",
       "serum_sodium                0\n",
       "sex                         0\n",
       "smoking                     0\n",
       "time                        0\n",
       "DEATH_EVENT                 0\n",
       "dtype: int64"
      ]
     },
     "execution_count": 8,
     "metadata": {},
     "output_type": "execute_result"
    }
   ],
   "source": [
    "heart_data.isnull().sum()\n",
    "#Bu kod satırı ile verimizde null olan ifadeleri bulmayı ve işleme başlamadan önce doğru bir sonuç almak için veriyi kontrol ediyoruz.\n",
    "#Verimizde null bir ifade olmadığı için herhangi bir işlem yapmayacağız. Ancak eğer null bir ifademiz olsaydı onu temizlememiz ya da bu ifadeleri doldurmamız gerekecekti. \n"
   ]
  },
  {
   "cell_type": "code",
   "execution_count": 9,
   "metadata": {},
   "outputs": [
    {
     "data": {
      "text/plain": [
       "array([[<matplotlib.axes._subplots.AxesSubplot object at 0x0000021E7ABFEE50>,\n",
       "        <matplotlib.axes._subplots.AxesSubplot object at 0x0000021E7AC5A580>,\n",
       "        <matplotlib.axes._subplots.AxesSubplot object at 0x0000021E7AC889D0>,\n",
       "        <matplotlib.axes._subplots.AxesSubplot object at 0x0000021E7ACB5E50>],\n",
       "       [<matplotlib.axes._subplots.AxesSubplot object at 0x0000021E7ACEF2E0>,\n",
       "        <matplotlib.axes._subplots.AxesSubplot object at 0x0000021E7AD1A670>,\n",
       "        <matplotlib.axes._subplots.AxesSubplot object at 0x0000021E7AD1A760>,\n",
       "        <matplotlib.axes._subplots.AxesSubplot object at 0x0000021E7AD47C10>],\n",
       "       [<matplotlib.axes._subplots.AxesSubplot object at 0x0000021E7ADAD460>,\n",
       "        <matplotlib.axes._subplots.AxesSubplot object at 0x0000021E7ADD88B0>,\n",
       "        <matplotlib.axes._subplots.AxesSubplot object at 0x0000021E7AE04D30>,\n",
       "        <matplotlib.axes._subplots.AxesSubplot object at 0x0000021E7AE3E1C0>],\n",
       "       [<matplotlib.axes._subplots.AxesSubplot object at 0x0000021E7AE6A610>,\n",
       "        <matplotlib.axes._subplots.AxesSubplot object at 0x0000021E7AE979A0>,\n",
       "        <matplotlib.axes._subplots.AxesSubplot object at 0x0000021E7AEB8FA0>,\n",
       "        <matplotlib.axes._subplots.AxesSubplot object at 0x0000021E7AEEC460>]],\n",
       "      dtype=object)"
      ]
     },
     "execution_count": 9,
     "metadata": {},
     "output_type": "execute_result"
    },
    {
     "data": {
      "image/png": "[encoded data removed]",
      "text/plain": [
       "<Figure size 1440x720 with 16 Axes>"
      ]
     },
     "metadata": {
      "needs_background": "light"
     },
     "output_type": "display_data"
    }
   ],
   "source": [
    "heart_data.hist(figsize=(20,10))\n",
    "#Verimizi daha yakından tanımak için her faktör için bir histagran grafiği oluşturuyoruz. \n",
    "#Bu şekilde veri hakkında genel bilgimizi ediniyoruz. Daha sonra ise faktörlerin kalp krizini nasıl ekilediğini tek tek inceleyeceğiz. \n"
   ]
  },
  {
   "cell_type": "code",
   "execution_count": 10,
   "metadata": {},
   "outputs": [
    {
     "data": {
      "text/plain": [
       "Text(0.5, 0, 'Age')"
      ]
     },
     "execution_count": 10,
     "metadata": {},
     "output_type": "execute_result"
    },
    {
     "data": {
      "image/png": "[encoded data removed]",
      "text/plain": [
       "<Figure size 432x288 with 1 Axes>"
      ]
     },
     "metadata": {
      "needs_background": "light"
     },
     "output_type": "display_data"
    }
   ],
   "source": [
    "heart_data['age'].plot.hist(title='age histograms', color='green')\n",
    "plt.xlabel('Age')\n"
   ]
  },
  {
   "cell_type": "code",
   "execution_count": 11,
   "metadata": {},
   "outputs": [
    {
     "data": {
      "text/plain": [
       "<seaborn.axisgrid.FacetGrid at 0x21e7b6666d0>"
      ]
     },
     "execution_count": 11,
     "metadata": {},
     "output_type": "execute_result"
    },
    {
     "data": {
      "image/png": "[encoded data removed]",
      "text/plain": [
       "<Figure size 432x216 with 2 Axes>"
      ]
     },
     "metadata": {
      "needs_background": "light"
     },
     "output_type": "display_data"
    }
   ],
   "source": [
    "age_hist = sns.FacetGrid(heart_data, col='DEATH_EVENT', hue='DEATH_EVENT')\n",
    "age_hist.map(plt.hist, 'age', bins=15)\n",
    "#yaş faktörünün kalp krizine etkenenine baktığımızda özellikle 80 yaşından sonrasındaki bireylerin hayatını kaybetmiş olduğunu görüyoruz.\n",
    "#80 yaşından küçük bireylerde kapl kriznin yaşa etkisi ile ilgili bir incelemenin tam manasıyla bir sonuç vermediğini söyleyebiliriz.\n",
    "#Yani bir bireyin yaşı ile kalp krizi hakkıda bir yorumlama yapmamız gerekirse .Ancak öok ileri yaştaki bireylerin bu konudan doğrudan etkilendiğini söyleyebiliriz.\n",
    "#Bunun dışında kalan bireyler için kap krizinin yalnızca yaş faktörü ile doğrudan bir orantısı olduğunu söylemek pek mümkün değildir. "
   ]
  },
  {
   "cell_type": "markdown",
   "metadata": {},
   "source": [
    "CİNSİYET VE YAŞ FAKTÖRLERİNİN BERABER İNCELENMESİ : "
   ]
  },
  {
   "cell_type": "code",
   "execution_count": 12,
   "metadata": {},
   "outputs": [
    {
     "data": {
      "text/plain": [
       "<matplotlib.axes._subplots.AxesSubplot at 0x21e7b972880>"
      ]
     },
     "execution_count": 12,
     "metadata": {},
     "output_type": "execute_result"
    },
    {
     "data": {
      "image/png": "[encoded data removed]",
      "text/plain": [
       "<Figure size 432x288 with 1 Axes>"
      ]
     },
     "metadata": {},
     "output_type": "display_data"
    }
   ],
   "source": [
    "heart_data['sex'].value_counts().plot.pie(explode=[0,0.1],shadow=True,autopct='%1.1f%%',\n",
    "                                       title= 'CİNSİYET')\n",
    "#0=female 1=male\n"
   ]
  },
  {
   "cell_type": "code",
   "execution_count": 13,
   "metadata": {},
   "outputs": [
    {
     "data": {
      "text/plain": [
       "<seaborn.axisgrid.FacetGrid at 0x21e7b256040>"
      ]
     },
     "execution_count": 13,
     "metadata": {},
     "output_type": "execute_result"
    },
    {
     "data": {
      "image/png": "[encoded data removed]",
      "text/plain": [
       "<Figure size 432x432 with 4 Axes>"
      ]
     },
     "metadata": {
      "needs_background": "light"
     },
     "output_type": "display_data"
    }
   ],
   "source": [
    "age_sex_hist = sns.FacetGrid(heart_data, col='DEATH_EVENT', row='sex', hue='DEATH_EVENT')\n",
    "age_sex_hist.map(plt.hist, 'age', bins=15)\n",
    "#sex= 1:male 0:female   death_event = 0:no 1 :yes \n",
    "#diabetes= 0:no  1:yes \n",
    "#Yaş ve cinsiyet faktörlerinin ölümle alakalı durumunu incelemek istediğimizde . Şu şekilde bir yorum yapabiliriz. \n",
    "#kadın ve erkek hastalar için hayatta kalanlara baktığımızda ; Bu durumun özellikle 50-70 yaş aralığındaki erkeklerde çok daha fazla olduğunu görebiliriyoruz. \n",
    "#Bununla birlikte kadınlarda hayatta kalma durumunun çok ileri yaşlarda bile görülmüş olduğunu fark ediyoruz. \n",
    "#Hayatını kaybeden bireyler için cinsiyetin ve yaşın etkisinin nasıl olduğunu incelediğimizde 40-60 yaş aralığında kadınlardan her yaş aralığında hayatını kaybedenleri görebiliyoruz \n",
    "#Ancak 40-60 yaş aralığındaki erkeklere baktığımızda ise erkek bireylerde yer yer bazı yaşlarda hiç bir bireyin hayatını bkaybetmediğini söyleyebiliz. \n",
    "#Yine de baktığımızda 40-60 yaş aralığındaki hayatını kaybeden erkek ve kadınların sayısının birbirine oldukça yakın olduğunu da tespit edebiliriz. \n",
    "#60-80 yaş aralığında erkek bireylerin daha fazla hayatını kaybetmiş olduğunu görebiliriz. \n",
    "#Aynı şekilde 80 yaştan fazla olan bireylerde de erkek bireylerin daha fazla hayatını kaybetmiş olduğunu görüyoruz.\n",
    "#Bu incelemeler sonucunda şöyle bir çıkarım yapabilmemiz mümkün olabilir. Özellikle yaş arttığında erkek bireylerde kalp krizi sebebiyle hayatını kaybetme oranının daha fazla olduğunu görüyoruz. \n",
    "\n"
   ]
  },
  {
   "cell_type": "markdown",
   "metadata": {},
   "source": [
    "Diyabet "
   ]
  },
  {
   "cell_type": "code",
   "execution_count": 14,
   "metadata": {},
   "outputs": [
    {
     "data": {
      "text/plain": [
       "<matplotlib.axes._subplots.AxesSubplot at 0x21e7b337c10>"
      ]
     },
     "execution_count": 14,
     "metadata": {},
     "output_type": "execute_result"
    },
    {
     "data": {
      "image/png": "[encoded data removed]",
      "text/plain": [
       "<Figure size 432x288 with 1 Axes>"
      ]
     },
     "metadata": {},
     "output_type": "display_data"
    }
   ],
   "source": [
    "heart_data['diabetes'].value_counts().plot.pie(explode=[0,0.1],shadow=True,autopct='%1.1f%%',\n",
    "                                       title= 'diabetes')\n",
    "#Verimize baktığımızda bireylerin %58.2 si diabet hastası değildir ve kalanlar ise diabet hastasıdır .\n",
    "#Peki bir bireyin diyabet hastası olması kalp krizine nasıl bir etki sağlar ? "
   ]
  },
  {
   "cell_type": "code",
   "execution_count": 15,
   "metadata": {},
   "outputs": [
    {
     "data": {
      "text/plain": [
       "0    174\n",
       "1    125\n",
       "Name: diabetes, dtype: int64"
      ]
     },
     "execution_count": 15,
     "metadata": {},
     "output_type": "execute_result"
    }
   ],
   "source": [
    "heart_data['diabetes'].value_counts()"
   ]
  },
  {
   "cell_type": "code",
   "execution_count": 16,
   "metadata": {},
   "outputs": [
    {
     "data": {
      "text/plain": [
       "diabetes  DEATH_EVENT\n",
       "0         0              118\n",
       "          1               56\n",
       "1         0               85\n",
       "          1               40\n",
       "Name: DEATH_EVENT, dtype: int64"
      ]
     },
     "execution_count": 16,
     "metadata": {},
     "output_type": "execute_result"
    },
    {
     "data": {
      "image/png": "[encoded data removed]",
      "text/plain": [
       "<Figure size 432x288 with 1 Axes>"
      ]
     },
     "metadata": {
      "needs_background": "light"
     },
     "output_type": "display_data"
    }
   ],
   "source": [
    "sns.countplot(data=heart_data, x=heart_data['diabetes'], hue=\"DEATH_EVENT\", palette = \"Set3\", alpha=0.8, edgecolor=\"k\", linewidth=1) \n",
    "diabetes=heart_data.groupby('diabetes')\n",
    "diabetes['DEATH_EVENT'].value_counts() \n",
    "#Diyabet hastası olan bireylerden 85 kişinin hayatta kaldığını ancak 40 kadar bireyin hayatını kaybettiğini görüyoruz. Bu durumda diyabet hastası olup hayatta kalan birey oranı 0.32 oluyor.\n",
    "#Diyabet hastası olmayan bireylerden 56  kişinin hayatını kaybettiğini görüyoruz. 118 kişi ise hayatta kalmıştır .Bu durumda diyabet hastası olmayıp hayatını kaybetme ooranı ise 0.322olduğunu görüyoruz.\n",
    "#Diyabet hastası olan hayatta kalan bireylerin oranı %68\n",
    "#Diyabet hastası olmayıp hayatta kalan bireylerin oranı %67.8\n",
    "#Bu durumda diyabet hastası olmanın kalp krizi ile doğrudan bir ilişkiye sahip olduğunu söylemek pek mümkün değildir. \n"
   ]
  },
  {
   "cell_type": "markdown",
   "metadata": {},
   "source": [
    "ANEMİ "
   ]
  },
  {
   "cell_type": "code",
   "execution_count": 17,
   "metadata": {},
   "outputs": [
    {
     "data": {
      "text/plain": [
       "anaemia  DEATH_EVENT\n",
       "0        0              120\n",
       "         1               50\n",
       "1        0               83\n",
       "         1               46\n",
       "Name: DEATH_EVENT, dtype: int64"
      ]
     },
     "execution_count": 17,
     "metadata": {},
     "output_type": "execute_result"
    },
    {
     "data": {
      "image/png": "[encoded data removed]",
      "text/plain": [
       "<Figure size 432x288 with 1 Axes>"
      ]
     },
     "metadata": {
      "needs_background": "light"
     },
     "output_type": "display_data"
    }
   ],
   "source": [
    "sns.countplot(data=heart_data, x=heart_data['anaemia'], hue=\"DEATH_EVENT\", palette = [\"#990303\", \"#9C9999\"], alpha=0.8, edgecolor=\"k\", linewidth=1) \n",
    "Anaemia=heart_data.groupby('anaemia')\n",
    "Anaemia['DEATH_EVENT'].value_counts()"
   ]
  },
  {
   "cell_type": "code",
   "execution_count": 18,
   "metadata": {},
   "outputs": [
    {
     "data": {
      "text/plain": [
       "high_blood_pressure  DEATH_EVENT\n",
       "0                    0              137\n",
       "                     1               57\n",
       "1                    0               66\n",
       "                     1               39\n",
       "Name: DEATH_EVENT, dtype: int64"
      ]
     },
     "execution_count": 18,
     "metadata": {},
     "output_type": "execute_result"
    },
    {
     "data": {
      "image/png": "[encoded data removed]",
      "text/plain": [
       "<Figure size 432x288 with 1 Axes>"
      ]
     },
     "metadata": {
      "needs_background": "light"
     },
     "output_type": "display_data"
    }
   ],
   "source": [
    "sns.countplot(data=heart_data, x=heart_data['high_blood_pressure'], hue=\"DEATH_EVENT\", palette = \"pink\", alpha=0.8, edgecolor=\"k\", linewidth=1) \n",
    "HBP=heart_data.groupby('high_blood_pressure')\n",
    "HBP['DEATH_EVENT'].value_counts()"
   ]
  },
  {
   "cell_type": "code",
   "execution_count": 19,
   "metadata": {},
   "outputs": [
    {
     "data": {
      "text/plain": [
       "Text(0.5, 0, 'Serum sodium')"
      ]
     },
     "execution_count": 19,
     "metadata": {},
     "output_type": "execute_result"
    },
    {
     "data": {
      "image/png": "[encoded data removed]",
      "text/plain": [
       "<Figure size 432x288 with 1 Axes>"
      ]
     },
     "metadata": {
      "needs_background": "light"
     },
     "output_type": "display_data"
    }
   ],
   "source": [
    "sns.kdeplot(heart_data.loc[(heart_data['DEATH_EVENT']==0), \n",
    "            'serum_sodium'], color='r', shade=True, Label='alive') \n",
    "  \n",
    "sns.kdeplot(heart_data.loc[(heart_data['DEATH_EVENT']==1),  \n",
    "            'serum_sodium'], color='b', shade=True, Label='dead') \n",
    "  \n",
    "plt.xlabel('Serum sodium') "
   ]
  },
  {
   "cell_type": "code",
   "execution_count": 20,
   "metadata": {},
   "outputs": [
    {
     "data": {
      "text/plain": [
       "Text(0.5, 0, 'Ejection fraction')"
      ]
     },
     "execution_count": 20,
     "metadata": {},
     "output_type": "execute_result"
    },
    {
     "data": {
      "image/png": "[encoded data removed]",
      "text/plain": [
       "<Figure size 432x288 with 1 Axes>"
      ]
     },
     "metadata": {
      "needs_background": "light"
     },
     "output_type": "display_data"
    }
   ],
   "source": [
    "sns.kdeplot(heart_data.loc[(heart_data['DEATH_EVENT']==0), \n",
    "            'ejection_fraction'], color='r', shade=True, Label='alive') \n",
    "  \n",
    "sns.kdeplot(heart_data.loc[(heart_data['DEATH_EVENT']==1),  \n",
    "            'ejection_fraction'], color='b', shade=True, Label='dead') \n",
    "  \n",
    "plt.xlabel('Ejection fraction')  \n",
    "\n",
    "#Ejeksiyon fraksiyonu (EF) denen bir ölçüm ile her kalp atışında kalbin ne kadar iyi kasıldığı, böylece sistolik veya diyastolik KYayrımı yapılabilir.\n",
    "#Grafiği incelediğimizde kasılmanın en ideal olduğu sayının 20-50 arası olduğunu fark ediyoruz. Hatta bu aralıkta en ideal olan durum ise 40 .Bu durumda bireylerin hayatta kalma durumlarının daha fazla olduğunu gözlemlemek mümkün. \n",
    "#Yine grafiği incelediğimizde kalp kasılması durumunun 20 olduğu durumda ölüm oranının en fazla miktara ulaştığını görebiliyoruz. \n"
   ]
  },
  {
   "cell_type": "markdown",
   "metadata": {},
   "source": [
    "MODELLEMELER "
   ]
  },
  {
   "cell_type": "code",
   "execution_count": 21,
   "metadata": {},
   "outputs": [
    {
     "name": "stdout",
     "output_type": "stream",
     "text": [
      "      age  anaemia  creatinine_phosphokinase  diabetes  ejection_fraction  \\\n",
      "0    75.0        0                       582         0                 20   \n",
      "1    55.0        0                      7861         0                 38   \n",
      "2    65.0        0                       146         0                 20   \n",
      "3    50.0        1                       111         0                 20   \n",
      "4    65.0        1                       160         1                 20   \n",
      "..    ...      ...                       ...       ...                ...   \n",
      "294  62.0        0                        61         1                 38   \n",
      "295  55.0        0                      1820         0                 38   \n",
      "296  45.0        0                      2060         1                 60   \n",
      "297  45.0        0                      2413         0                 38   \n",
      "298  50.0        0                       196         0                 45   \n",
      "\n",
      "     high_blood_pressure  platelets  serum_creatinine  serum_sodium  sex  \\\n",
      "0                      1  265000.00               1.9           130    1   \n",
      "1                      0  263358.03               1.1           136    1   \n",
      "2                      0  162000.00               1.3           129    1   \n",
      "3                      0  210000.00               1.9           137    1   \n",
      "4                      0  327000.00               2.7           116    0   \n",
      "..                   ...        ...               ...           ...  ...   \n",
      "294                    1  155000.00               1.1           143    1   \n",
      "295                    0  270000.00               1.2           139    0   \n",
      "296                    0  742000.00               0.8           138    0   \n",
      "297                    0  140000.00               1.4           140    1   \n",
      "298                    0  395000.00               1.6           136    1   \n",
      "\n",
      "     smoking  time  \n",
      "0          0     4  \n",
      "1          0     6  \n",
      "2          1     7  \n",
      "3          0     7  \n",
      "4          0     8  \n",
      "..       ...   ...  \n",
      "294        1   270  \n",
      "295        0   271  \n",
      "296        0   278  \n",
      "297        1   280  \n",
      "298        1   285  \n",
      "\n",
      "[299 rows x 12 columns]\n"
     ]
    }
   ],
   "source": [
    "x=heart_data.iloc[:,:12]\n",
    "print(x) \n",
    "#verilerim dataframe olarak tutulmakta. Bu framin içerisinde bağımsız değişkenlerim mevcut. "
   ]
  },
  {
   "cell_type": "code",
   "execution_count": 22,
   "metadata": {},
   "outputs": [
    {
     "name": "stdout",
     "output_type": "stream",
     "text": [
      "     DEATH_EVENT\n",
      "0              1\n",
      "1              1\n",
      "2              1\n",
      "3              1\n",
      "4              1\n",
      "..           ...\n",
      "294            0\n",
      "295            0\n",
      "296            0\n",
      "297            0\n",
      "298            0\n",
      "\n",
      "[299 rows x 1 columns]\n"
     ]
    }
   ],
   "source": [
    "y=heart_data.iloc[:,12:13]\n",
    "print(y) \n",
    "#verilerim dataframe olarak tutulmakta. Bu framin içerisinde bağımlı değişkenim mevcut. "
   ]
  },
  {
   "cell_type": "code",
   "execution_count": 23,
   "metadata": {},
   "outputs": [],
   "source": [
    "X=x.values\n",
    "Y=y.values\n",
    "#Verilerim numpy array olarak tutuluyor.\n"
   ]
  },
  {
   "cell_type": "code",
   "execution_count": 24,
   "metadata": {},
   "outputs": [],
   "source": [
    "from sklearn.preprocessing import StandardScaler\n",
    "\n",
    "sc=StandardScaler()\n",
    "x_ölçekli=sc.fit_transform(X)\n",
    "y_ölçekli=sc.fit_transform(Y)\n",
    "#Verimizi ortak bir sayı dünyasına taşımız olduk .Böylece veriyi  modellemede daha doğru sonuçlar alıcaz.\n",
    "#Ayrıa burada X bağımsız değişkenlerini tutan bir kısım olarak ayarlandı .Daha sonra dilediğimiz faktörleri bağımsız değişken olarak atayıp denemeler yapıcaz."
   ]
  },
  {
   "cell_type": "code",
   "execution_count": 25,
   "metadata": {},
   "outputs": [],
   "source": [
    "from sklearn.model_selection import train_test_split\n",
    "x_train, x_test,y_train,y_test = train_test_split(x,y,test_size=0.33, random_state=0)\n",
    "#Verilerimizi test ve eğitim olarak ayırdık . %33 lük bir değer kullandık "
   ]
  },
  {
   "cell_type": "markdown",
   "metadata": {},
   "source": [
    "PREDİCTİON (TAHMİN MODELLERİ) "
   ]
  },
  {
   "cell_type": "code",
   "execution_count": 26,
   "metadata": {},
   "outputs": [
    {
     "name": "stdout",
     "output_type": "stream",
     "text": [
      "[[-0.06271572]\n",
      " [ 0.17301446]\n",
      " [ 0.55225623]\n",
      " [ 0.09257809]\n",
      " [ 0.27625464]\n",
      " [ 0.17797458]\n",
      " [ 0.614855  ]\n",
      " [ 0.01437581]\n",
      " [ 0.74885798]\n",
      " [ 0.45820389]\n",
      " [ 0.17935865]\n",
      " [ 0.63028966]\n",
      " [ 0.25066903]\n",
      " [ 0.21220872]\n",
      " [ 0.53504392]\n",
      " [ 0.71504694]\n",
      " [-0.10402952]\n",
      " [ 0.3724829 ]\n",
      " [ 0.09992641]\n",
      " [-0.06910342]\n",
      " [ 0.42915291]\n",
      " [ 0.52341557]\n",
      " [ 0.52535103]\n",
      " [ 0.32852216]\n",
      " [ 0.46306305]\n",
      " [ 0.1339507 ]\n",
      " [ 0.2448582 ]\n",
      " [-0.12610875]\n",
      " [-0.18344699]\n",
      " [ 0.13029216]\n",
      " [ 0.12305361]\n",
      " [ 0.61490588]\n",
      " [ 0.42749378]\n",
      " [ 0.38504944]\n",
      " [ 0.21555226]\n",
      " [ 0.48466236]\n",
      " [ 0.34727416]\n",
      " [ 0.38926092]\n",
      " [-0.27376697]\n",
      " [ 0.83479992]\n",
      " [-0.15632133]\n",
      " [ 0.37866878]\n",
      " [ 0.3461496 ]\n",
      " [ 0.36412534]\n",
      " [ 0.89345686]\n",
      " [ 0.33197217]\n",
      " [-0.09088394]\n",
      " [-0.01376701]\n",
      " [ 0.35302165]\n",
      " [ 0.49731182]\n",
      " [ 0.33599588]\n",
      " [-0.02955884]\n",
      " [ 0.26296023]\n",
      " [ 0.29042283]\n",
      " [ 0.71858741]\n",
      " [ 0.38132152]\n",
      " [ 0.34235502]\n",
      " [ 0.81126005]\n",
      " [ 0.04671444]\n",
      " [ 0.31729105]\n",
      " [ 0.7356578 ]\n",
      " [ 0.24044728]\n",
      " [ 0.27160223]\n",
      " [-0.19046999]\n",
      " [-0.2461393 ]\n",
      " [-0.10216863]\n",
      " [ 0.15266255]\n",
      " [ 0.36927461]\n",
      " [ 0.76807967]\n",
      " [ 0.64454498]\n",
      " [ 0.33611169]\n",
      " [ 0.21291688]\n",
      " [ 0.15694286]\n",
      " [ 0.51115333]\n",
      " [ 0.52447665]\n",
      " [-0.01645884]\n",
      " [ 0.54274114]\n",
      " [ 0.29221968]\n",
      " [ 0.04270144]\n",
      " [ 0.43772166]\n",
      " [ 0.15246432]\n",
      " [ 0.2809358 ]\n",
      " [-0.27193281]\n",
      " [ 0.10072092]\n",
      " [-0.09561485]\n",
      " [ 0.25341139]\n",
      " [ 0.36430995]\n",
      " [ 0.14718993]\n",
      " [ 0.25900885]\n",
      " [-0.0108947 ]\n",
      " [ 0.13938747]\n",
      " [ 0.31690758]\n",
      " [ 0.2030897 ]\n",
      " [-0.06697127]\n",
      " [ 0.12094633]\n",
      " [ 0.40552139]\n",
      " [ 0.40710167]\n",
      " [ 0.65373229]\n",
      " [ 0.30717359]]\n",
      "     DEATH_EVENT\n",
      "206            0\n",
      "188            0\n",
      "12             1\n",
      "219            0\n",
      "237            0\n",
      "..           ...\n",
      "152            0\n",
      "158            0\n",
      "101            0\n",
      "54             1\n",
      "181            1\n",
      "\n",
      "[99 rows x 1 columns]\n"
     ]
    }
   ],
   "source": [
    "from sklearn.linear_model import LinearRegression\n",
    "r_ml = LinearRegression()\n",
    "r_ml.fit(x_train,y_train) #Xten yyi öğretiyoruz. Yani x kullanarak y yi eğitiyoruz.\n",
    "\n",
    "tahmin1 = r_ml.predict(x_test)\n",
    "print(tahmin1)\n",
    "print(y_test)\n",
    "#MultiLinear Regression modeli ile tahminlerimizi yapıyoruz."
   ]
  },
  {
   "cell_type": "code",
   "execution_count": 27,
   "metadata": {},
   "outputs": [
    {
     "name": "stdout",
     "output_type": "stream",
     "text": [
      "decision tree regression predict\n",
      "[0. 0. 0. 0. 0. 0. 1. 0. 0. 0. 0. 1. 0. 0. 1. 1. 0. 0. 0. 0. 0. 1. 0. 0.\n",
      " 1. 0. 1. 0. 0. 0. 0. 1. 0. 0. 0. 1. 0. 0. 0. 1. 0. 0. 0. 1. 1. 0. 0. 0.\n",
      " 0. 1. 0. 0. 0. 0. 1. 1. 0. 1. 0. 0. 1. 0. 0. 0. 0. 0. 1. 0. 1. 1. 0. 1.\n",
      " 0. 1. 1. 0. 1. 0. 0. 0. 0. 0. 0. 1. 0. 0. 0. 0. 0. 0. 1. 0. 0. 0. 0. 1.\n",
      " 0. 1. 0.]\n",
      "     DEATH_EVENT\n",
      "206            0\n",
      "188            0\n",
      "12             1\n",
      "219            0\n",
      "237            0\n",
      "..           ...\n",
      "152            0\n",
      "158            0\n",
      "101            0\n",
      "54             1\n",
      "181            1\n",
      "\n",
      "[99 rows x 1 columns]\n"
     ]
    }
   ],
   "source": [
    "from sklearn.tree import DecisionTreeRegressor\n",
    "r_dst=DecisionTreeRegressor(random_state=0) \n",
    "r_dst.fit(x_train,y_train)\n",
    "tahmin2=r_dst.predict(x_test)\n",
    "print(\"decision tree regression predict\")\n",
    "print(tahmin2)\n",
    "print(y_test)"
   ]
  },
  {
   "cell_type": "code",
   "execution_count": 29,
   "metadata": {},
   "outputs": [
    {
     "name": "stdout",
     "output_type": "stream",
     "text": [
      "random forest regression predict\n",
      "[0.  0.  0.8 0.  0.  0.  0.1 0.  0.4 0.  0.6 0.7 0.  0.  0.8 0.9 0.  0.\n",
      " 0.  0.2 0.8 0.  0.2 0.3 0.5 0.  0.3 0.1 0.  0.  0.  0.7 0.8 0.  0.  0.6\n",
      " 0.  0.  0.1 0.9 0.  0.5 0.2 0.4 0.9 0.  0.  0.6 0.9 0.9 0.3 0.  0.2 0.\n",
      " 1.  0.1 0.  0.9 0.  0.  0.7 0.  0.7 0.  0.  0.1 0.4 0.1 0.8 0.9 0.  0.1\n",
      " 0.  1.  0.6 0.2 0.8 0.  0.  0.2 0.  0.  0.1 0.4 0.  0.  0.4 0.  0.  0.2\n",
      " 0.1 0.6 0.  0.  0.  0.9 0.3 1.  0.1]\n",
      "     DEATH_EVENT\n",
      "206            0\n",
      "188            0\n",
      "12             1\n",
      "219            0\n",
      "237            0\n",
      "..           ...\n",
      "152            0\n",
      "158            0\n",
      "101            0\n",
      "54             1\n",
      "181            1\n",
      "\n",
      "[99 rows x 1 columns]\n"
     ]
    },
    {
     "name": "stderr",
     "output_type": "stream",
     "text": [
      "<ipython-input-29-95057a1ead0a>:6: DataConversionWarning: A column-vector y was passed when a 1d array was expected. Please change the shape of y to (n_samples,), for example using ravel().\n",
      "  r_rf.fit(x_train,y_train)\n"
     ]
    }
   ],
   "source": [
    "from sklearn.ensemble import RandomForestRegressor\n",
    " #Tahmin için kullandığımızda Regressor olarak kuulanıyoruz.\n",
    " #Bu algoritmalar aynı zamanda sınıflandırma da da kullandığından \n",
    "r_rf = RandomForestRegressor(n_estimators=10,random_state=0) \n",
    "# n_restimator kaç tane karar ağacı kullanağımızı ayarladığımız parametredir \n",
    "r_rf.fit(x_train,y_train)\n",
    "tahmin3=r_rf.predict(x_test)\n",
    "print(\"random forest regression predict\")\n",
    "print(tahmin3)\n",
    "print(y_test)\n",
    "#Random forest algoritması ensemble yapılı bir algoritmadır .Yani birden fazla görüşten oluşur.Burda amaç baskın olan görüşü almaktır.\n",
    "#Yani oy çokluğu ile sonuca karar verilir. n_estimators :algoritmada kullanılmasını istediğimiz karar ağacı sayısını belirlediğimiz bir parametredir.\n"
   ]
  },
  {
   "cell_type": "markdown",
   "metadata": {},
   "source": [
    "SINIFLANDIRMA MODELLERİ "
   ]
  },
  {
   "cell_type": "markdown",
   "metadata": {},
   "source": [
    "#BU KISIMDA MODELLERİMİZİN BAŞARISINI CONFUSSİON MATRİX KULLANARAK DA ANALİZ EDECEĞİZ. "
   ]
  },
  {
   "cell_type": "code",
   "execution_count": 150,
   "metadata": {},
   "outputs": [
    {
     "name": "stdout",
     "output_type": "stream",
     "text": [
      "[0 0 1 0 0 0 0 0 0 0 0 1 0 0 1 1 0 0 0 0 0 1 0 0 0 0 0 0 0 0 0 1 0 0 0 0 0\n",
      " 0 0 1 0 1 0 0 1 0 0 0 0 0 0 0 0 0 1 0 0 1 0 0 1 0 0 0 0 0 0 0 1 1 0 0 0 1\n",
      " 1 0 1 0 0 0 0 0 0 0 0 0 0 0 0 0 0 0 0 0 0 0 0 1 0]\n",
      "     DEATH_EVENT\n",
      "206            0\n",
      "188            0\n",
      "12             1\n",
      "219            0\n",
      "237            0\n",
      "..           ...\n",
      "152            0\n",
      "158            0\n",
      "101            0\n",
      "54             1\n",
      "181            1\n",
      "\n",
      "[99 rows x 1 columns]\n"
     ]
    },
    {
     "name": "stderr",
     "output_type": "stream",
     "text": [
      "C:\\ProgramData\\Anaconda3\\lib\\site-packages\\sklearn\\utils\\validation.py:73: DataConversionWarning: A column-vector y was passed when a 1d array was expected. Please change the shape of y to (n_samples, ), for example using ravel().\n",
      "  return f(**kwargs)\n"
     ]
    }
   ],
   "source": [
    "from sklearn.linear_model import LogisticRegression\n",
    "c_lr = LogisticRegression(random_state=0)\n",
    "c_lr.fit(x_train,y_train) #Xten yyi öğretiyoruz. Yani x kullanarak y yi eğitiyoruz.\n",
    "\n",
    "tahmin4 = c_lr.predict(x_test)\n",
    "print(tahmin4)\n",
    "print(y_test)\n",
    "#Öncelikle logistic Regression ile model oluşturup tahminimize bakıyoruz."
   ]
  },
  {
   "cell_type": "code",
   "execution_count": 151,
   "metadata": {},
   "outputs": [
    {
     "name": "stdout",
     "output_type": "stream",
     "text": [
      "Naive Bayes\n",
      "[0 0 1 0 0 0 0 0 1 0 0 1 0 0 1 1 0 0 1 0 0 1 0 0 0 0 0 0 0 0 0 1 0 0 0 0 0\n",
      " 0 0 1 0 0 0 0 1 0 0 0 0 0 0 0 0 0 1 0 0 1 0 0 1 0 0 0 0 0 0 0 1 1 0 0 0 0\n",
      " 0 0 1 0 0 0 0 0 0 0 0 0 0 0 0 0 0 0 0 0 0 0 0 0 0]\n",
      "     DEATH_EVENT\n",
      "206            0\n",
      "188            0\n",
      "12             1\n",
      "219            0\n",
      "237            0\n",
      "..           ...\n",
      "152            0\n",
      "158            0\n",
      "101            0\n",
      "54             1\n",
      "181            1\n",
      "\n",
      "[99 rows x 1 columns]\n"
     ]
    },
    {
     "name": "stderr",
     "output_type": "stream",
     "text": [
      "C:\\ProgramData\\Anaconda3\\lib\\site-packages\\sklearn\\utils\\validation.py:73: DataConversionWarning: A column-vector y was passed when a 1d array was expected. Please change the shape of y to (n_samples, ), for example using ravel().\n",
      "  return f(**kwargs)\n"
     ]
    }
   ],
   "source": [
    "from sklearn.naive_bayes import GaussianNB\n",
    "c_gnb=GaussianNB()\n",
    "c_gnb.fit(x_train,y_train)\n",
    "tahmin5=c_gnb.predict(x_test)\n",
    "print(\"Naive Bayes\")\n",
    "print(tahmin5)\n",
    "print(y_test)"
   ]
  },
  {
   "cell_type": "code",
   "execution_count": 152,
   "metadata": {},
   "outputs": [
    {
     "name": "stdout",
     "output_type": "stream",
     "text": [
      "DecisionTreeClassifier \n",
      "[0 1 1 0 0 0 1 0 1 0 0 1 1 0 1 1 0 0 0 0 1 0 0 0 1 0 0 0 0 0 0 1 1 0 0 1 0\n",
      " 0 0 1 0 1 0 1 1 0 0 0 1 1 0 0 0 0 1 1 0 1 0 0 0 0 0 0 0 0 0 0 1 1 0 1 0 0\n",
      " 0 0 1 0 0 0 0 0 0 0 0 0 0 0 0 0 0 1 1 0 0 1 0 1 0]\n",
      "     DEATH_EVENT\n",
      "206            0\n",
      "188            0\n",
      "12             1\n",
      "219            0\n",
      "237            0\n",
      "..           ...\n",
      "152            0\n",
      "158            0\n",
      "101            0\n",
      "54             1\n",
      "181            1\n",
      "\n",
      "[99 rows x 1 columns]\n"
     ]
    }
   ],
   "source": [
    "from sklearn.tree import DecisionTreeClassifier \n",
    "c_dst=DecisionTreeClassifier(criterion='entropy')\n",
    "c_dst.fit(x_train,y_train)\n",
    "tahmin6=c_dst.predict(x_test)\n",
    "print(\"DecisionTreeClassifier \")\n",
    "print(tahmin6)\n",
    "print(y_test)"
   ]
  },
  {
   "cell_type": "code",
   "execution_count": 153,
   "metadata": {
    "scrolled": true
   },
   "outputs": [
    {
     "name": "stdout",
     "output_type": "stream",
     "text": [
      "KNN Clacssifier \n",
      "[1 1 0 0 0 0 0 0 0 0 0 1 0 1 0 0 0 0 0 0 1 1 0 1 0 0 0 0 1 0 1 1 1 0 1 0 1\n",
      " 0 1 1 1 0 1 0 0 0 0 1 0 0 0 0 0 1 0 1 0 1 0 0 0 0 1 1 0 0 1 0 0 0 0 0 0 0\n",
      " 0 0 0 0 0 1 1 0 1 0 0 0 1 0 0 0 1 1 0 0 0 0 1 0 0]\n",
      "     DEATH_EVENT\n",
      "206            0\n",
      "188            0\n",
      "12             1\n",
      "219            0\n",
      "237            0\n",
      "..           ...\n",
      "152            0\n",
      "158            0\n",
      "101            0\n",
      "54             1\n",
      "181            1\n",
      "\n",
      "[99 rows x 1 columns]\n"
     ]
    },
    {
     "name": "stderr",
     "output_type": "stream",
     "text": [
      "<ipython-input-153-0f9677a25fd7>:3: DataConversionWarning: A column-vector y was passed when a 1d array was expected. Please change the shape of y to (n_samples, ), for example using ravel().\n",
      "  c_knn.fit(x_train,y_train)\n"
     ]
    }
   ],
   "source": [
    "from sklearn.neighbors import KNeighborsClassifier\n",
    "c_knn=KNeighborsClassifier(n_neighbors=5,metric=\"minkowski\")\n",
    "c_knn.fit(x_train,y_train)\n",
    "tahmin7=c_knn.predict(x_test)\n",
    "print(\"KNN Clacssifier \")\n",
    "print(tahmin7)\n",
    "print(y_test)"
   ]
  },
  {
   "cell_type": "code",
   "execution_count": 154,
   "metadata": {},
   "outputs": [
    {
     "name": "stdout",
     "output_type": "stream",
     "text": [
      "Random Forest Classifier \n",
      "[0 0 1 0 0 0 0 0 0 0 0 1 0 0 1 1 0 0 0 0 1 0 0 0 1 0 1 0 0 0 0 1 1 0 0 1 0\n",
      " 0 0 1 0 0 0 0 1 0 0 0 0 1 0 0 0 0 1 1 0 0 0 0 0 0 0 0 0 0 0 0 1 1 0 1 0 1\n",
      " 1 0 0 0 0 0 0 0 0 0 0 0 0 0 0 0 0 1 0 0 0 1 0 1 0]\n",
      "     DEATH_EVENT\n",
      "206            0\n",
      "188            0\n",
      "12             1\n",
      "219            0\n",
      "237            0\n",
      "..           ...\n",
      "152            0\n",
      "158            0\n",
      "101            0\n",
      "54             1\n",
      "181            1\n",
      "\n",
      "[99 rows x 1 columns]\n"
     ]
    },
    {
     "name": "stderr",
     "output_type": "stream",
     "text": [
      "<ipython-input-154-0b81e105de1d>:3: DataConversionWarning: A column-vector y was passed when a 1d array was expected. Please change the shape of y to (n_samples,), for example using ravel().\n",
      "  c_rf.fit(x_train,y_train)\n"
     ]
    }
   ],
   "source": [
    "from sklearn.ensemble import RandomForestClassifier\n",
    "c_rf=RandomForestClassifier(n_estimators=10,criterion='entropy')\n",
    "c_rf.fit(x_train,y_train)\n",
    "tahmin8=c_rf.predict(x_test)\n",
    "print(\"Random Forest Classifier \")\n",
    "print(tahmin8)\n",
    "print(y_test)"
   ]
  },
  {
   "cell_type": "code",
   "execution_count": 155,
   "metadata": {},
   "outputs": [
    {
     "name": "stderr",
     "output_type": "stream",
     "text": [
      "C:\\ProgramData\\Anaconda3\\lib\\site-packages\\sklearn\\utils\\validation.py:73: DataConversionWarning: A column-vector y was passed when a 1d array was expected. Please change the shape of y to (n_samples, ), for example using ravel().\n",
      "  return f(**kwargs)\n"
     ]
    },
    {
     "name": "stdout",
     "output_type": "stream",
     "text": [
      "Support Vector Classification \n",
      "[0 0 1 0 0 0 0 0 1 0 0 1 0 0 1 1 0 0 0 0 0 1 0 0 0 0 0 0 0 0 0 1 1 0 0 0 0\n",
      " 0 0 1 0 0 0 1 0 0 0 0 0 0 0 0 0 0 1 0 0 1 0 0 1 0 0 0 0 0 0 0 1 1 0 0 0 1\n",
      " 0 0 1 0 0 0 0 0 0 0 0 0 0 0 0 0 0 1 0 0 0 0 0 1 0]\n",
      "     DEATH_EVENT\n",
      "206            0\n",
      "188            0\n",
      "12             1\n",
      "219            0\n",
      "237            0\n",
      "..           ...\n",
      "152            0\n",
      "158            0\n",
      "101            0\n",
      "54             1\n",
      "181            1\n",
      "\n",
      "[99 rows x 1 columns]\n"
     ]
    }
   ],
   "source": [
    "from sklearn.svm import SVC\n",
    "svc=SVC(kernel='linear')\n",
    "svc.fit(x_train,y_train)\n",
    "tahmin9=svc.predict(x_test)\n",
    "print(\"Support Vector Classification \")\n",
    "print(tahmin9)\n",
    "print(y_test)\n",
    "#kernel support vector algoritması için farklı şekilde çalıştırması için kullanılan bir parametredir.Burada polinomial gibi bazı seçenekler mevcuttur."
   ]
  },
  {
   "cell_type": "code",
   "execution_count": 156,
   "metadata": {},
   "outputs": [
    {
     "name": "stdout",
     "output_type": "stream",
     "text": [
      "Lojistic  Regresyon\n",
      "[[64  4]\n",
      " [17 14]]\n"
     ]
    }
   ],
   "source": [
    "\n",
    "cm_lr=confusion_matrix(y_test,tahmin4)\n",
    "print('Lojistic  Regresyon')\n",
    "print(cm_lr)\n",
    "#78 doğru 21 yanlış tahmin"
   ]
  },
  {
   "cell_type": "code",
   "execution_count": 157,
   "metadata": {},
   "outputs": [
    {
     "name": "stdout",
     "output_type": "stream",
     "text": [
      "Naive Bayes\n",
      "[[64  4]\n",
      " [19 12]]\n"
     ]
    }
   ],
   "source": [
    "cm_gnb=confusion_matrix(y_test,tahmin5)\n",
    "print('Naive Bayes')\n",
    "print(cm_gnb)\n",
    "#76 doğru 23 yanlış \n"
   ]
  },
  {
   "cell_type": "code",
   "execution_count": 70,
   "metadata": {},
   "outputs": [
    {
     "name": "stdout",
     "output_type": "stream",
     "text": [
      "Dession Tree\n",
      "[[58 10]\n",
      " [ 8 23]]\n"
     ]
    }
   ],
   "source": [
    "cm_dst=confusion_matrix(y_test,tahmin6)\n",
    "print('Dession Tree')\n",
    "print(cm_dst) \n",
    "#81 doğru 18 yanlış \n",
    "\n",
    "#Modelimizin ne kadar doğru tahmin yaptığını incelemek amacıyla confusion matrix kullanıyoruz. \n",
    "#Ve görüyoruz ki Modelimiz 78 doğru tahmin 21 yanlış tahmin yapmış. Modelimizin %78 lik bir başarı elde ettiğini görüyoruz."
   ]
  },
  {
   "cell_type": "code",
   "execution_count": 158,
   "metadata": {},
   "outputs": [
    {
     "name": "stdout",
     "output_type": "stream",
     "text": [
      "KNN\n",
      "[[47 21]\n",
      " [21 10]]\n"
     ]
    }
   ],
   "source": [
    "cm_knn=confusion_matrix(y_test,tahmin7)\n",
    "print('KNN')\n",
    "print(cm_knn)\n",
    "#57 doğru 42 yanlış "
   ]
  },
  {
   "cell_type": "code",
   "execution_count": 159,
   "metadata": {},
   "outputs": [
    {
     "name": "stdout",
     "output_type": "stream",
     "text": [
      "Random Forest\n",
      "[[64  4]\n",
      " [12 19]]\n"
     ]
    }
   ],
   "source": [
    "cm_rf=confusion_matrix(y_test,tahmin8)\n",
    "print('Random Forest')\n",
    "print(cm_rf)\n",
    "#83 doğru 14 yanlış \n",
    "\n"
   ]
  },
  {
   "cell_type": "code",
   "execution_count": 160,
   "metadata": {},
   "outputs": [
    {
     "name": "stdout",
     "output_type": "stream",
     "text": [
      "SVC\n",
      "[[65  3]\n",
      " [15 16]]\n"
     ]
    }
   ],
   "source": [
    "cm_svc=confusion_matrix(y_test,tahmin9)\n",
    "print('SVC')\n",
    "print(cm_svc)\n",
    "#81 doğru 18 yanlış"
   ]
  },
  {
   "cell_type": "code",
   "execution_count": 161,
   "metadata": {},
   "outputs": [],
   "source": [
    "models=pd.Series(['Logistic Regression','Naive Bayes','Decision Tree',\n",
    "                  'K Nearest Neighbors','Random Forest' ,'Support Vector'])\n",
    "Accuracy_score=pd.Series([accuracy_score(y_test,tahmin4),accuracy_score(y_test,tahmin5),accuracy_score(y_test,tahmin6),\n",
    "                         accuracy_score(y_test,tahmin7),accuracy_score(y_test,tahmin8),accuracy_score(y_test,tahmin9)])\n",
    "\n"
   ]
  },
  {
   "cell_type": "code",
   "execution_count": 162,
   "metadata": {},
   "outputs": [],
   "source": [
    "Leaderboard=pd.DataFrame({'Models':models,'Accuracy':Accuracy_score})"
   ]
  },
  {
   "cell_type": "code",
   "execution_count": 163,
   "metadata": {},
   "outputs": [
    {
     "data": {
      "text/html": [
       "<div>\n",
       "<style scoped>\n",
       "    .dataframe tbody tr th:only-of-type {\n",
       "        vertical-align: middle;\n",
       "    }\n",
       "\n",
       "    .dataframe tbody tr th {\n",
       "        vertical-align: top;\n",
       "    }\n",
       "\n",
       "    .dataframe thead th {\n",
       "        text-align: right;\n",
       "    }\n",
       "</style>\n",
       "<table border=\"1\" class=\"dataframe\">\n",
       "  <thead>\n",
       "    <tr style=\"text-align: right;\">\n",
       "      <th></th>\n",
       "      <th>Models</th>\n",
       "      <th>Accuracy</th>\n",
       "    </tr>\n",
       "  </thead>\n",
       "  <tbody>\n",
       "    <tr>\n",
       "      <th>0</th>\n",
       "      <td>Logistic Regression</td>\n",
       "      <td>0.787879</td>\n",
       "    </tr>\n",
       "    <tr>\n",
       "      <th>1</th>\n",
       "      <td>Naive Bayes</td>\n",
       "      <td>0.767677</td>\n",
       "    </tr>\n",
       "    <tr>\n",
       "      <th>2</th>\n",
       "      <td>Decision Tree</td>\n",
       "      <td>0.828283</td>\n",
       "    </tr>\n",
       "    <tr>\n",
       "      <th>3</th>\n",
       "      <td>K Nearest Neighbors</td>\n",
       "      <td>0.575758</td>\n",
       "    </tr>\n",
       "    <tr>\n",
       "      <th>4</th>\n",
       "      <td>Random Forest</td>\n",
       "      <td>0.838384</td>\n",
       "    </tr>\n",
       "    <tr>\n",
       "      <th>5</th>\n",
       "      <td>Support Vector</td>\n",
       "      <td>0.818182</td>\n",
       "    </tr>\n",
       "  </tbody>\n",
       "</table>\n",
       "</div>"
      ],
      "text/plain": [
       "                Models  Accuracy\n",
       "0  Logistic Regression  0.787879\n",
       "1          Naive Bayes  0.767677\n",
       "2        Decision Tree  0.828283\n",
       "3  K Nearest Neighbors  0.575758\n",
       "4        Random Forest  0.838384\n",
       "5       Support Vector  0.818182"
      ]
     },
     "execution_count": 163,
     "metadata": {},
     "output_type": "execute_result"
    }
   ],
   "source": [
    "Leaderboard"
   ]
  },
  {
   "cell_type": "code",
   "execution_count": 164,
   "metadata": {},
   "outputs": [
    {
     "name": "stderr",
     "output_type": "stream",
     "text": [
      "<ipython-input-164-24f3da805eb9>:2: DataConversionWarning: A column-vector y was passed when a 1d array was expected. Please change the shape of y to (n_samples,), for example using ravel().\n",
      "  model.fit(x_train,y_train)\n"
     ]
    }
   ],
   "source": [
    "model=RandomForestClassifier(class_weight='balanced', random_state=0)\n",
    "model.fit(x_train,y_train)\n",
    "\n",
    "y_pred=model.predict(x_test)\n",
    "y_proba=model.predict_proba(x_test)\n",
    "y_proba=[p[1] for p in y_proba]\n"
   ]
  },
  {
   "cell_type": "code",
   "execution_count": 165,
   "metadata": {},
   "outputs": [
    {
     "data": {
      "image/png": "[encoded data removed]",
      "text/plain": [
       "<Figure size 432x288 with 1 Axes>"
      ]
     },
     "metadata": {
      "needs_background": "light"
     },
     "output_type": "display_data"
    }
   ],
   "source": [
    "df_feat=pd.DataFrame({'Feature':x.columns,\n",
    "                      'Importance':model.feature_importances_})\n",
    "df_feat.sort_values(by='Importance', ascending=False, inplace=True)\n",
    "df_feat.reset_index(inplace=True)\n",
    "\n",
    "sns.barplot(x='Importance',y='Feature', data=df_feat, orient='h')\n",
    "plt.show()"
   ]
  }
 ],
 "metadata": {
  "kernelspec": {
   "display_name": "Python 3",
   "language": "python",
   "name": "python3"
  },
  "language_info": {
   "codemirror_mode": {
    "name": "ipython",
    "version": 3
   },
   "file_extension": ".py",
   "mimetype": "text/x-python",
   "name": "python",
   "nbconvert_exporter": "python",
   "pygments_lexer": "ipython3",
   "version": "3.8.5"
  }
 },
 "nbformat": 4,
 "nbformat_minor": 4
}
